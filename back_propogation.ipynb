{
  "cells": [
    {
      "cell_type": "markdown",
      "metadata": {
        "id": "view-in-github",
        "colab_type": "text"
      },
      "source": [
        "<a href=\"https://colab.research.google.com/github/nathanhawe/CSCI-264/blob/main/back_propogation.ipynb\" target=\"_parent\"><img src=\"https://colab.research.google.com/assets/colab-badge.svg\" alt=\"Open In Colab\"/></a>"
      ]
    },
    {
      "cell_type": "markdown",
      "metadata": {
        "id": "49oNOJgrnIuR"
      },
      "source": [
        "Here's a description of the setup"
      ]
    },
    {
      "cell_type": "code",
      "execution_count": 1,
      "metadata": {
        "id": "8UEc1ndSstrp"
      },
      "outputs": [],
      "source": [
        "import numpy as np\n",
        "import matplotlib.pyplot as plt\n",
        "import tabulate\n",
        "\n",
        "training_data = [((0, 0), 0), ((0, 1), 1), ((1, 0), 1), ((1, 1), 0)]\n",
        "\n",
        "# sigmoid function used in the forward pass\n",
        "def sig(x):\n",
        "  return 1 / (1 + np.exp(-x))\n",
        "\n",
        "# derivative of the sigmoid function used in back propogation\n",
        "def sig_der(x):\n",
        "  return x * (1 - x)\n",
        "\n",
        "# Squared Error\n",
        "def loss2(r, y):\n",
        "  return np.power((r - y),2)\n",
        "\n",
        "def forward_pass(X,W,V):\n",
        "  Z = [1,0,0]\n",
        "\n",
        "  # calculate the hidden layer skipping the bias (z0) which will remain unchanged\n",
        "  Z[1] = sig((W[0][0] * X[0]) + (W[0][1] * X[1]) + (W[0][2] * X[2]))\n",
        "  Z[2] = sig((W[1][0] * X[0]) + (W[1][1] * X[1]) + (W[1][2] * X[2]))\n",
        "\n",
        "  # Calculate the output Y\n",
        "  y = sig(np.dot(Z, V))\n",
        "\n",
        "  return (Z, y)\n",
        "\n",
        "def classify(x):\n",
        "  return 1 if x >= 0.5 else 0\n",
        "\n",
        "def print_W(W):\n",
        "  for z in range(len(W)):\n",
        "    for x in range(len(W[z])):\n",
        "      print(f\"w({z+1},{x}): {W[z,x]}\")\n",
        "\n",
        "def print_V(V):\n",
        "  for z in range(len(V)):\n",
        "    print(f\"v(1,{z}): {V[z]}\")\n",
        "\n",
        "def print_stats(stats):\n",
        "  seed = str(stats['seed'])\n",
        "  print(f\"Data from training with seed #{seed}:\")\n",
        "  print(f\"Learning Rate: {stats['learning_rate']}\")\n",
        "  print(f\"Starting Weights:\")\n",
        "  print_W(stats['starting_weight']['W'])\n",
        "  print_V(stats['starting_weight']['V'])\n",
        "\n",
        "  print(\"\\nFinal Weights:\")\n",
        "  print_W(stats['final_weight']['W'])\n",
        "  print_V(stats['final_weight']['V'])\n",
        "\n",
        "  print(\"\\nError and Accuracy at Epoch\")\n",
        "  print(tabulate.tabulate(stats['epoch'],headers='keys'))\n",
        "\n",
        "  x = [e['epoch_num'] for e in stats['epoch']]\n",
        "  y = [e['mse'] for e in stats['epoch']]\n",
        "  plt.plot(x, y)\n",
        "  plt.xlabel('EPOCH')\n",
        "  plt.ylabel('MSE')\n",
        "  plt.title(f'Error Over Time (Seed #{seed})')\n",
        "  plt.show()\n",
        "\n",
        "def run_set(seed, learning_rate = 0.02, max_epochs = 1000000, stat_interval = 1000):\n",
        "  # seed RNG to ensure consistent results between runs\n",
        "  np.random.seed(seed)\n",
        "\n",
        "  # randomly generate starting weights (-0.01, 0.01)\n",
        "  W = np.random.uniform(-0.01, 0.01, (2, 3))\n",
        "  V = np.random.uniform(-0.01, 0.01, 3)\n",
        "\n",
        "  stats = {\n",
        "      'seed': seed,\n",
        "      'learning_rate': learning_rate,\n",
        "      'starting_weight': {\n",
        "          'W': W.copy(),\n",
        "          'V': V.copy()\n",
        "      },\n",
        "      'final_weight': {\n",
        "          'W': [],\n",
        "          'V': []\n",
        "      },\n",
        "      'epoch': []\n",
        "  }\n",
        "\n",
        "  for epochi in range(max_epochs):\n",
        "    # Train\n",
        "    for input in training_data:\n",
        "      # prepending an additional input for bias X0\n",
        "      X = [1] + [x for x in input[0]]\n",
        "      r = input[1]\n",
        "\n",
        "      # calculate the forward pass getting the hidden layer values and\n",
        "      # output for use in back propogation\n",
        "      (Z, y) = forward_pass(X, W, V)\n",
        "\n",
        "      # calculate difference for V and W weights\n",
        "      delta_V = [learning_rate * (r - y) * z for z in Z]\n",
        "      delta_W = []\n",
        "      for zi in range(1, len(W) + 1):\n",
        "        temp = []\n",
        "        for xi in range(len(W[zi-1])):\n",
        "          temp.append(learning_rate * (r - y) * V[zi] * sig_der(Z[zi]) * X[xi])\n",
        "        delta_W.append(temp)\n",
        "\n",
        "      # apply difference to V and W\n",
        "      for i in range(len(V)):\n",
        "        V[i] += delta_V[i]\n",
        "\n",
        "      for i in range(len(W)):\n",
        "        for j in range(len(W[i])):\n",
        "          W[i][j] += delta_W[i][j]\n",
        "\n",
        "    # Measure the mean squared error and accuracy at regular intervals\n",
        "    if epochi % stat_interval == 0 or epochi + 1 == max_epochs:\n",
        "      count = 0\n",
        "      success = 0\n",
        "      total_error = 0\n",
        "      for input in training_data:\n",
        "        X = [1] + [x for x in input[0]]\n",
        "        r = input[1]\n",
        "\n",
        "        (_, y) = forward_pass(X, W, V)\n",
        "\n",
        "        count += 1\n",
        "        total_error += loss2(r, y)\n",
        "        success += 1 if r == classify(y) else 0\n",
        "\n",
        "      stats['epoch'].append({\n",
        "        'epoch_num': (epochi + 1),\n",
        "        'mse': total_error / count,\n",
        "        'accuracy': success / count\n",
        "      })\n",
        "\n",
        "      # break early when accuracy is 1\n",
        "      if success == count:\n",
        "        break\n",
        "\n",
        "  stats['final_weight']['W'] = W.copy()\n",
        "  stats['final_weight']['V'] = V.copy()\n",
        "\n",
        "  return stats\n"
      ]
    },
    {
      "cell_type": "markdown",
      "metadata": {
        "id": "dgj6uuFZvPYp"
      },
      "source": [
        "Batch"
      ]
    },
    {
      "cell_type": "code",
      "execution_count": 2,
      "metadata": {
        "id": "-pIZFr1QvRCF"
      },
      "outputs": [],
      "source": [
        "def run_batch_set(seed, learning_rate = 0.02, max_epochs = 1000000, stat_interval = 1000):\n",
        "  # seed RNG to ensure consistent results between runs\n",
        "  np.random.seed(seed)\n",
        "\n",
        "  # randomly generate starting weights (-0.01, 0.01)\n",
        "  W = np.random.uniform(-0.01, 0.01, (2, 3))\n",
        "  V = np.random.uniform(-0.01, 0.01, 3)\n",
        "\n",
        "  stats = {\n",
        "      'seed': seed,\n",
        "      'learning_rate': learning_rate,\n",
        "      'starting_weight': {\n",
        "          'W': W.copy(),\n",
        "          'V': V.copy()\n",
        "      },\n",
        "      'final_weight': {\n",
        "          'W': [],\n",
        "          'V': []\n",
        "      },\n",
        "      'epoch': []\n",
        "  }\n",
        "\n",
        "  for epochi in range(max_epochs):\n",
        "    # Train\n",
        "    count = 0\n",
        "    total_error = 0\n",
        "    for input in training_data:\n",
        "      # prepending an additional input for bias X0\n",
        "      X = [1] + [x for x in input[0]]\n",
        "      r = input[1]\n",
        "\n",
        "      # calculate the forward pass getting the hidden layer values and\n",
        "      # output to calculate mean error for use in back propogation\n",
        "      (Z, y) = forward_pass(X, W, V)\n",
        "      count += 1\n",
        "      total_error += (r - y)\n",
        "\n",
        "    mean_error = total_error/count\n",
        "\n",
        "    # calculate difference for V and W weights\n",
        "    delta_V = [learning_rate * (mean_error) * z for z in Z]\n",
        "    delta_W = []\n",
        "    for zi in range(1, len(W) + 1):\n",
        "      temp = []\n",
        "      for xi in range(len(W[zi-1])):\n",
        "        temp.append(learning_rate * (mean_error) * V[zi] * sig_der(Z[zi]) * X[xi])\n",
        "      delta_W.append(temp)\n",
        "\n",
        "    # apply difference to V and W\n",
        "    for i in range(len(V)):\n",
        "      V[i] += delta_V[i]\n",
        "\n",
        "    for i in range(len(W)):\n",
        "      for j in range(len(W[i])):\n",
        "        W[i][j] += delta_W[i][j]\n",
        "\n",
        "    # Measure the mean squared error and accuracy at regular intervals\n",
        "    if epochi % stat_interval == 0 or epochi + 1 == max_epochs:\n",
        "      count = 0\n",
        "      success = 0\n",
        "      total_error = 0\n",
        "      for input in training_data:\n",
        "        X = [1] + [x for x in input[0]]\n",
        "        r = input[1]\n",
        "\n",
        "        (_, y) = forward_pass(X, W, V)\n",
        "\n",
        "        count += 1\n",
        "        total_error += loss2(r, y)\n",
        "        success += 1 if r == classify(y) else 0\n",
        "\n",
        "      stats['epoch'].append({\n",
        "        'epoch_num': (epochi + 1),\n",
        "        'mse': total_error / count,\n",
        "        'accuracy': success / count\n",
        "      })\n",
        "\n",
        "      # break early when accuracy is 1\n",
        "      if success == count:\n",
        "        break\n",
        "\n",
        "  stats['final_weight']['W'] = W.copy()\n",
        "  stats['final_weight']['V'] = V.copy()\n",
        "\n",
        "  return stats"
      ]
    },
    {
      "cell_type": "markdown",
      "metadata": {
        "id": "bPUQECtuRT_Y"
      },
      "source": [
        "Run #1"
      ]
    },
    {
      "cell_type": "code",
      "execution_count": 3,
      "metadata": {
        "id": "eDeVyxv0RVRf",
        "colab": {
          "base_uri": "https://localhost:8080/",
          "height": 1000
        },
        "outputId": "26f241ee-d85a-42bc-f68a-cce656f55326"
      },
      "outputs": [
        {
          "output_type": "stream",
          "name": "stdout",
          "text": [
            "Data from training with seed #42:\n",
            "Learning Rate: 0.02\n",
            "Starting Weights:\n",
            "w(1,0): -0.0025091976230527504\n",
            "w(1,1): 0.009014286128198325\n",
            "w(1,2): 0.0046398788362281024\n",
            "w(2,0): 0.0019731696839407325\n",
            "w(2,1): -0.006879627191151269\n",
            "w(2,2): -0.006880109593275947\n",
            "v(1,0): -0.00883832775663601\n",
            "v(1,1): 0.007323522915498705\n",
            "v(1,2): 0.002022300234864176\n",
            "\n",
            "Final Weights:\n",
            "w(1,0): 3.717182669195718\n",
            "w(1,1): -2.6807148344941982\n",
            "w(1,2): -2.6785928642168986\n",
            "w(2,0): 1.7337632055862446\n",
            "w(2,1): -5.577061602444532\n",
            "w(2,2): -5.602682221748581\n",
            "v(1,0): -1.883146954265725\n",
            "v(1,1): 5.217906480896687\n",
            "v(1,2): -6.8310497734184175\n",
            "\n",
            "Error and Accuracy at Epoch\n",
            "  epoch_num        mse    accuracy\n",
            "-----------  ---------  ----------\n",
            "          1  0.250001         0.5\n",
            "       1001  0.25             0.5\n",
            "       2001  0.25             0.5\n",
            "       3001  0.25             0.75\n",
            "       4001  0.25             0.75\n",
            "       5001  0.25             0.75\n",
            "       6001  0.25             0.75\n",
            "       7001  0.25             0.75\n",
            "       8001  0.25             0.5\n",
            "       9001  0.249999         0.5\n",
            "      10001  0.249998         0.5\n",
            "      11001  0.249996         0.5\n",
            "      12001  0.249993         0.5\n",
            "      13001  0.249987         0.5\n",
            "      14001  0.249977         0.5\n",
            "      15001  0.249958         0.5\n",
            "      16001  0.249923         0.5\n",
            "      17001  0.249847         0.5\n",
            "      18001  0.249648         0.5\n",
            "      19001  0.248921         0.5\n",
            "      20001  0.244841         0.75\n",
            "      21001  0.22345          0.75\n",
            "      22001  0.187601         0.75\n",
            "      23001  0.164748         0.75\n",
            "      24001  0.107502         0.75\n",
            "      25001  0.0279067        1\n"
          ]
        },
        {
          "output_type": "display_data",
          "data": {
            "text/plain": [
              "<Figure size 640x480 with 1 Axes>"
            ],
            "image/png": "[encoded data removed]"
          },
          "metadata": {}
        }
      ],
      "source": [
        "stats = run_set(42)\n",
        "print_stats(stats)\n"
      ]
    },
    {
      "cell_type": "markdown",
      "metadata": {
        "id": "gS-Ong1uhib3"
      },
      "source": [
        "Run #2"
      ]
    },
    {
      "cell_type": "code",
      "execution_count": 4,
      "metadata": {
        "id": "LNxPnzv-iqLJ",
        "colab": {
          "base_uri": "https://localhost:8080/",
          "height": 1000
        },
        "outputId": "d316324a-8c1a-4d31-dadf-3ce5182005ee"
      },
      "outputs": [
        {
          "output_type": "stream",
          "name": "stdout",
          "text": [
            "Data from training with seed #1:\n",
            "Learning Rate: 0.02\n",
            "Starting Weights:\n",
            "w(1,0): -0.0016595599059485207\n",
            "w(1,1): 0.004406489868843162\n",
            "w(1,2): -0.009997712503653102\n",
            "w(2,0): -0.003953348547363205\n",
            "w(2,1): -0.00706488218365774\n",
            "w(2,2): -0.008153228104624044\n",
            "v(1,0): -0.006274795772446582\n",
            "v(1,1): -0.0030887854591390455\n",
            "v(1,2): -0.002064650515386601\n",
            "\n",
            "Final Weights:\n",
            "w(1,0): 3.142214702004801\n",
            "w(1,1): -2.433026556591141\n",
            "w(1,2): -2.4284932952699947\n",
            "w(2,0): 1.6878899794196853\n",
            "w(2,1): -7.700097687087125\n",
            "w(2,2): -7.705370673374562\n",
            "v(1,0): -1.4458303179601597\n",
            "v(1,1): 4.832979974959006\n",
            "v(1,2): -7.985860944779839\n",
            "\n",
            "Error and Accuracy at Epoch\n",
            "  epoch_num        mse    accuracy\n",
            "-----------  ---------  ----------\n",
            "          1  0.250005         0.5\n",
            "       1001  0.25             0.5\n",
            "       2001  0.25             0.5\n",
            "       3001  0.25             0.5\n",
            "       4001  0.25             0.5\n",
            "       5001  0.25             0.5\n",
            "       6001  0.25             0.5\n",
            "       7001  0.25             0.75\n",
            "       8001  0.249999         0.5\n",
            "       9001  0.249999         0.5\n",
            "      10001  0.249997         0.5\n",
            "      11001  0.249995         0.5\n",
            "      12001  0.24999          0.5\n",
            "      13001  0.249983         0.5\n",
            "      14001  0.249971         0.5\n",
            "      15001  0.249948         0.5\n",
            "      16001  0.249904         0.5\n",
            "      17001  0.249809         0.5\n",
            "      18001  0.249562         0.5\n",
            "      19001  0.248721         0.5\n",
            "      20001  0.244712         0.75\n",
            "      21001  0.227059         0.75\n",
            "      22001  0.1971           0.75\n",
            "      23001  0.182064         0.75\n",
            "      24001  0.176106         0.75\n",
            "      25001  0.173218         0.75\n",
            "      26001  0.171569         0.75\n",
            "      27001  0.170516         0.75\n",
            "      28001  0.169786         0.75\n",
            "      29001  0.169248         0.75\n",
            "      30001  0.168828         0.75\n",
            "      31001  0.168484         0.75\n",
            "      32001  0.168186         0.75\n",
            "      33001  0.167909         0.75\n",
            "      34001  0.167629         0.75\n",
            "      35001  0.167308         0.75\n",
            "      36001  0.16687          0.75\n",
            "      37001  0.166084         0.75\n",
            "      38001  0.163744         0.75\n",
            "      39001  0.133461         0.75\n",
            "      40001  0.0377791        1\n"
          ]
        },
        {
          "output_type": "display_data",
          "data": {
            "text/plain": [
              "<Figure size 640x480 with 1 Axes>"
            ],
            "image/png": "[encoded data removed]"
          },
          "metadata": {}
        }
      ],
      "source": [
        "stats = run_set(1)\n",
        "print_stats(stats)"
      ]
    },
    {
      "cell_type": "markdown",
      "metadata": {
        "id": "pkfT3mKyixSO"
      },
      "source": [
        "Run #3"
      ]
    },
    {
      "cell_type": "code",
      "execution_count": 5,
      "metadata": {
        "colab": {
          "base_uri": "https://localhost:8080/",
          "height": 1000
        },
        "id": "EVD6w4cYiweq",
        "outputId": "9dea3919-66b5-42e9-fbbc-23a003a4cd49"
      },
      "outputs": [
        {
          "output_type": "stream",
          "name": "stdout",
          "text": [
            "Data from training with seed #1085526:\n",
            "Learning Rate: 0.09\n",
            "Starting Weights:\n",
            "w(1,0): -0.006515626201793645\n",
            "w(1,1): 0.0064353380176404105\n",
            "w(1,2): -0.006225746429910793\n",
            "w(2,0): 0.007684464763440034\n",
            "w(2,1): -0.009637659718220138\n",
            "w(2,2): 0.005782798212053951\n",
            "v(1,0): -0.003242289982140374\n",
            "v(1,1): 0.003938052453540697\n",
            "v(1,2): 0.009219850974545233\n",
            "\n",
            "Final Weights:\n",
            "w(1,0): 0.6332320890276966\n",
            "w(1,1): -14.061760469741063\n",
            "w(1,2): -14.08206580313773\n",
            "w(2,0): 1.035999092995971\n",
            "w(2,1): -14.62407009061742\n",
            "w(2,2): -14.644375207448967\n",
            "v(1,0): 0.662855317228237\n",
            "v(1,1): -8.495634727024296\n",
            "v(1,2): -10.077007559242363\n",
            "\n",
            "Error and Accuracy at Epoch\n",
            "  epoch_num       mse    accuracy\n",
            "-----------  --------  ----------\n",
            "          1  0.25            0.5\n",
            "      50001  0.166827        0.75\n",
            "     100001  0.166762        0.75\n",
            "     150001  0.166741        0.75\n",
            "     200001  0.166731        0.75\n",
            "     250001  0.166724        0.75\n",
            "     300001  0.16672         0.75\n",
            "     350001  0.166718        0.75\n",
            "     400001  0.166716        0.75\n",
            "     450001  0.166714        0.75\n",
            "     500001  0.166713        0.75\n",
            "     550001  0.166711        0.75\n",
            "     600001  0.166711        0.75\n",
            "     650001  0.16671         0.75\n",
            "     700001  0.166709        0.75\n",
            "     750001  0.166709        0.75\n",
            "     800001  0.166708        0.75\n",
            "     850001  0.166708        0.75\n",
            "     900001  0.166707        0.75\n",
            "     950001  0.166707        0.75\n",
            "    1000001  0.166707        0.75\n",
            "    1050001  0.166706        0.75\n",
            "    1100001  0.166706        0.75\n",
            "    1150001  0.166706        0.75\n",
            "    1200001  0.166706        0.75\n",
            "    1250001  0.166706        0.75\n",
            "    1300001  0.166705        0.75\n",
            "    1350001  0.166705        0.75\n",
            "    1400001  0.166705        0.75\n",
            "    1450001  0.166705        0.75\n",
            "    1500001  0.166705        0.75\n",
            "    1550001  0.166705        0.75\n",
            "    1600001  0.166705        0.75\n",
            "    1650001  0.166704        0.75\n",
            "    1700001  0.166704        0.75\n",
            "    1750001  0.166704        0.75\n",
            "    1800001  0.166704        0.75\n",
            "    1850001  0.166704        0.75\n",
            "    1900001  0.166704        0.75\n",
            "    1950001  0.166704        0.75\n",
            "    2000001  0.166704        0.75\n",
            "    2050001  0.166704        0.75\n",
            "    2100001  0.166704        0.75\n",
            "    2150001  0.166704        0.75\n",
            "    2200001  0.166704        0.75\n",
            "    2250001  0.166704        0.75\n",
            "    2300001  0.166703        0.75\n",
            "    2350001  0.166703        0.75\n",
            "    2400001  0.166703        0.75\n",
            "    2450001  0.166703        0.75\n",
            "    2500001  0.166703        0.75\n",
            "    2550001  0.166703        0.75\n",
            "    2600001  0.166703        0.75\n",
            "    2650001  0.166703        0.75\n",
            "    2700001  0.166703        0.75\n",
            "    2750001  0.166703        0.75\n",
            "    2800001  0.166703        0.75\n",
            "    2850001  0.166703        0.75\n",
            "    2900001  0.166703        0.75\n",
            "    2950001  0.166703        0.75\n",
            "    3000000  0.166703        0.75\n"
          ]
        },
        {
          "output_type": "display_data",
          "data": {
            "text/plain": [
              "<Figure size 640x480 with 1 Axes>"
            ],
            "image/png": "[encoded data removed]"
          },
          "metadata": {}
        }
      ],
      "source": [
        "stats = run_set(1085526, learning_rate = 0.09, max_epochs=3000000, stat_interval=50000)\n",
        "print_stats(stats)\n",
        "\n",
        "# 0.166712 0.1\n",
        "# 0.166947 0.25\n",
        "# 0.167077 0.3\n",
        "# 0.167419 0.4\n"
      ]
    },
    {
      "cell_type": "markdown",
      "metadata": {
        "id": "_iVfAZ3Wi-v1"
      },
      "source": [
        "Run #4"
      ]
    },
    {
      "cell_type": "code",
      "execution_count": null,
      "metadata": {
        "colab": {
          "background_save": true
        },
        "id": "ZoTzJnAhi_35"
      },
      "outputs": [],
      "source": [
        "stats = run_set(5, max_epochs=2000000, stat_interval=10000)\n",
        "print_stats(stats)"
      ]
    },
    {
      "cell_type": "markdown",
      "metadata": {
        "id": "HyMPBvS1iuqE"
      },
      "source": [
        "Run #5"
      ]
    },
    {
      "cell_type": "code",
      "execution_count": null,
      "metadata": {
        "id": "E0gD2F0nhpAI"
      },
      "outputs": [],
      "source": [
        "stats = run_set(98, stat_interval=10000)\n",
        "print_stats(stats)"
      ]
    }
  ],
  "metadata": {
    "colab": {
      "provenance": [],
      "authorship_tag": "ABX9TyOKVLvsEK4AFoT5QZkA0csd",
      "include_colab_link": true
    },
    "kernelspec": {
      "display_name": "Python 3",
      "name": "python3"
    },
    "language_info": {
      "name": "python"
    }
  },
  "nbformat": 4,
  "nbformat_minor": 0
}